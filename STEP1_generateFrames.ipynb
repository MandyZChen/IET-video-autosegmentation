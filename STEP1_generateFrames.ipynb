{
 "cells": [
  {
   "cell_type": "code",
   "execution_count": 1,
   "metadata": {},
   "outputs": [],
   "source": [
    "import skvideo.io\n",
    "import os\n",
    "import glob\n",
    "import skimage.io\n",
    "\n",
    "def readvideo(name):\n",
    "    video = skvideo.io.vread(name)\n",
    "    return video\n",
    "\n",
    "def preprocess(video, clipname):\n",
    "    # make a folder under JPEG_DIR with a file name the same as the movie name.\n",
    "    directory = os.path.join(JPEG_DIR, clipname)\n",
    "    if not os.path.exists(directory):\n",
    "        os.makedirs(directory)\n",
    "    for i, frame in enumerate(video):\n",
    "        skimage.io.imsave('{}/{:05d}.jpg'.format(directory, i), frame)    "
   ]
  },
  {
   "cell_type": "code",
   "execution_count": 2,
   "metadata": {},
   "outputs": [
    {
     "data": {
      "text/plain": [
       "['Videos_unDone/1_alone.mp4', 'Videos_unDone/2_alone.mp4']"
      ]
     },
     "execution_count": 2,
     "metadata": {},
     "output_type": "execute_result"
    }
   ],
   "source": [
    "# save images in JPED_DIR\n",
    "JPEG_DIR = 'FrameImages'\n",
    "folder_name = 'VideosOriginal/'\n",
    "movies_name = sorted(glob.glob(os.path.join(folder_name,'*.mp4')))\n",
    "movies_name"
   ]
  },
  {
   "cell_type": "code",
   "execution_count": null,
   "metadata": {},
   "outputs": [],
   "source": [
    "for movie_name in movies_name:\n",
    "    video = readvideo(movie_name)\n",
    "    clip_name = os.path.basename(movie_name)[:-4]\n",
    "    preprocess(video, clip_name)\n",
    "    print('finished' + clip_name)"
   ]
  }
 ],
 "metadata": {
  "kernelspec": {
   "display_name": "Python 3",
   "language": "python",
   "name": "python3"
  },
  "language_info": {
   "codemirror_mode": {
    "name": "ipython",
    "version": 3
   },
   "file_extension": ".py",
   "mimetype": "text/x-python",
   "name": "python",
   "nbconvert_exporter": "python",
   "pygments_lexer": "ipython3",
   "version": "3.6.6"
  },
  "toc": {
   "base_numbering": 1,
   "nav_menu": {},
   "number_sections": true,
   "sideBar": true,
   "skip_h1_title": false,
   "title_cell": "Table of Contents",
   "title_sidebar": "Contents",
   "toc_cell": false,
   "toc_position": {},
   "toc_section_display": true,
   "toc_window_display": false
  }
 },
 "nbformat": 4,
 "nbformat_minor": 2
}
